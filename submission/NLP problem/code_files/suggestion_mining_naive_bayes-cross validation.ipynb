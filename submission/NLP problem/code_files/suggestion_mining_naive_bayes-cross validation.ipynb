{
 "cells": [
  {
   "cell_type": "markdown",
   "metadata": {},
   "source": [
    "# Import statements"
   ]
  },
  {
   "cell_type": "markdown",
   "metadata": {},
   "source": [
    "Training data converted to dataframe"
   ]
  },
  {
   "cell_type": "code",
   "execution_count": 1,
   "metadata": {},
   "outputs": [],
   "source": [
    "import pandas as pd\n",
    "df=pd.read_csv('/home/ritwik/Downloads/submission/NLP problem/dataset/Subtask-A-master/V1.4_Training.csv',header=None)"
   ]
  },
  {
   "cell_type": "markdown",
   "metadata": {},
   "source": [
    "Testing data converted to dataframe"
   ]
  },
  {
   "cell_type": "code",
   "execution_count": 2,
   "metadata": {},
   "outputs": [],
   "source": [
    "df_test=pd.read_csv('/home/ritwik/Downloads/submission/NLP problem/dataset/Subtask-A-master/SubtaskA_Trial_Test.csv',encoding=\"latin-1\",header=None)"
   ]
  },
  {
   "cell_type": "markdown",
   "metadata": {},
   "source": [
    "Importing Libraries"
   ]
  },
  {
   "cell_type": "code",
   "execution_count": 3,
   "metadata": {},
   "outputs": [
    {
     "name": "stdout",
     "output_type": "stream",
     "text": [
      "[nltk_data] Downloading package wordnet to /home/ritwik/nltk_data...\n",
      "[nltk_data]   Package wordnet is already up-to-date!\n"
     ]
    },
    {
     "data": {
      "text/plain": [
       "True"
      ]
     },
     "execution_count": 3,
     "metadata": {},
     "output_type": "execute_result"
    }
   ],
   "source": [
    "import num2words\n",
    "import nltk\n",
    "from nltk.tokenize import RegexpTokenizer\n",
    "tokenizer = RegexpTokenizer(r'\\w+')\n",
    "from nltk.stem.porter import *\n",
    "from nltk.corpus import stopwords\n",
    "stop_words = set(stopwords.words('english')) \n",
    "from nltk.stem.porter import *\n",
    "from nltk.stem import WordNetLemmatizer\n",
    "nltk.download('wordnet')"
   ]
  },
  {
   "cell_type": "markdown",
   "metadata": {},
   "source": [
    "Renaming columns of training dataframe "
   ]
  },
  {
   "cell_type": "code",
   "execution_count": 4,
   "metadata": {},
   "outputs": [],
   "source": [
    "df=df.rename(columns={0:'serial',1:'Sentence',2:'Suggestion_or_not'})"
   ]
  },
  {
   "cell_type": "markdown",
   "metadata": {},
   "source": [
    "# Preprocessing Text"
   ]
  },
  {
   "cell_type": "markdown",
   "metadata": {},
   "source": [
    "Lemmatization and stopword removal has been done"
   ]
  },
  {
   "cell_type": "code",
   "execution_count": 5,
   "metadata": {},
   "outputs": [],
   "source": [
    "def preprocess_text(text):\n",
    "    lemmatizer=WordNetLemmatizer()\n",
    "    text=text.lower()\n",
    "    token1=tokenizer.tokenize(text)\n",
    "    token=[]\n",
    "    for x in token1:\n",
    "        if x not in stop_words:\n",
    "            token.append(x)\n",
    "            #stemmed = [stemmer.stem(tokens) ]\n",
    "    lemmatiz=[lemmatizer.lemmatize(tokens) for tokens in token]\n",
    "    return lemmatiz"
   ]
  },
  {
   "cell_type": "markdown",
   "metadata": {},
   "source": [
    "Creating sentences in the form of paragraphs"
   ]
  },
  {
   "cell_type": "code",
   "execution_count": 6,
   "metadata": {},
   "outputs": [],
   "source": [
    "para=[[] for i in range(len(df))]\n",
    "for i in range(len(df)):\n",
    "    text=df.iloc[i][1]\n",
    "    text=str(text)\n",
    "    para[i]=preprocess_text(text)"
   ]
  },
  {
   "cell_type": "markdown",
   "metadata": {},
   "source": [
    "# Training"
   ]
  },
  {
   "cell_type": "markdown",
   "metadata": {},
   "source": [
    "Training process is used to create four dictionaries. Dict1 is the name given to the dictionary that stores the priors. Dict2 stores the vocabulary of the training data and which different words occur in a document.Dict3 is used to calculate the posterior probabilities. Dict4 is calculating the term frequency and inverse document frequency of different words"
   ]
  },
  {
   "cell_type": "code",
   "execution_count": 7,
   "metadata": {},
   "outputs": [],
   "source": [
    "def train_corpus(df):\n",
    "    dict1=dict()\n",
    "    dict2=dict()\n",
    "    dict3=dict()\n",
    "    dict4=dict()\n",
    "    s=set(df.iloc[:,2].tolist())\n",
    "    for i in s:\n",
    "        dict1[i]=0\n",
    "        dict2[i]=set()\n",
    "        dict4[i]=0\n",
    "    for i in range(len(df)):\n",
    "        dict1[df.iloc[i][2]]=dict1[df.iloc[i][2]]+1\n",
    "        lemmatiz=preprocess_text(df.iloc[i][1])\n",
    "        for j in lemmatiz:\n",
    "            dict2[df.iloc[i][2]].add(j)\n",
    "            dict4[df.iloc[i][2]]=dict4[df.iloc[i][2]]+1\n",
    "            if j in dict3:\n",
    "                if df.iloc[i][2] in dict3[j]:\n",
    "                    dict3[j][df.iloc[i][2]]=dict3[j][df.iloc[i][2]]+1\n",
    "                else:\n",
    "                     dict3[j][df.iloc[i][2]]=1\n",
    "            else:\n",
    "                dict3[j]=dict()\n",
    "                dict3[j][df.iloc[i][2]]=1\n",
    "    #applying smoothing\n",
    "    for classes in dict1:\n",
    "        dict1[classes]=dict1[classes]/len(df)\n",
    "    return dict1,dict2,dict3,dict4"
   ]
  },
  {
   "cell_type": "markdown",
   "metadata": {},
   "source": [
    "# Prediction"
   ]
  },
  {
   "cell_type": "markdown",
   "metadata": {},
   "source": [
    "Predict function is used to assign the sentence to the class having maximum value by applying the formula for naive bayes"
   ]
  },
  {
   "cell_type": "code",
   "execution_count": 8,
   "metadata": {},
   "outputs": [],
   "source": [
    "import math\n",
    "def predict(df,df_test,dict1,dict2,dict3,dict4):\n",
    "    lab=set(df.iloc[:,2].tolist())\n",
    "    prediction=[]\n",
    "    for i in range(len(df_test)):\n",
    "        maxval=-math.inf\n",
    "        index=''\n",
    "        lemmatiz=preprocess_text(df_test.iloc[i][1])\n",
    "        for x in lab:\n",
    "            \n",
    "            prob=0\n",
    "            for word in lemmatiz:\n",
    "                       \n",
    "                if word in dict3:\n",
    "                    if x in dict3[word]:\n",
    "                        prob1=math.log((dict3[word][x]+1)/(len(dict2[x])+dict4[x]))\n",
    "                    else:\n",
    "                        prob1=math.log(1/(len(dict2[x])+dict4[x]))\n",
    "                else:\n",
    "                    prob1=math.log(1/(len(dict2[x])+dict4[x]))\n",
    "                prob=prob+prob1\n",
    "                \n",
    "            prob=prob+math.log(dict1[x])\n",
    "            \n",
    "            if prob>maxval:\n",
    "                maxval=prob\n",
    "                index=x\n",
    "        prediction.append(index)\n",
    "    return prediction"
   ]
  },
  {
   "cell_type": "markdown",
   "metadata": {},
   "source": [
    "# Cross Validation"
   ]
  },
  {
   "cell_type": "markdown",
   "metadata": {},
   "source": [
    "k-fold cross validation has been performed on the training data for selecting the best fold on which training must be done. The dataframe has been divided into k equal folds. One fold in each iteration went for testing and every other fold became training folds. The fold with the best testing accuracy has been selected and would be used for training the data"
   ]
  },
  {
   "cell_type": "code",
   "execution_count": 9,
   "metadata": {},
   "outputs": [],
   "source": [
    "def cross_validate(df_train,k):\n",
    "    acc=0\n",
    "    for i in range(k):\n",
    "        x=int((i/k)*len(df_train))\n",
    "        y=int(((i+1)/k)*len(df_train))\n",
    "        test_df=df_train.iloc[x:y]\n",
    "        train_df = df_train[~df_train.index.isin(test_df.index)]\n",
    "        prior_dict,vocab_classes,post_dict,tokens_classes=train_corpus(train_df)\n",
    "        pre=predict(train_df,test_df,prior_dict,vocab_classes,post_dict,tokens_classes)\n",
    "        truelabels=test_df.iloc[:, 2].tolist()\n",
    "        count=0\n",
    "        for i in range(len(pre)):\n",
    "            if pre[i]==truelabels[i]:\n",
    "                count=count+1\n",
    "        a=count/len(pre)\n",
    "        if a>acc:\n",
    "            acc=a\n",
    "            return_df=train_df\n",
    "    \n",
    "    return return_df\n",
    "\n",
    "        "
   ]
  },
  {
   "cell_type": "markdown",
   "metadata": {},
   "source": [
    "# Calling functions"
   ]
  },
  {
   "cell_type": "code",
   "execution_count": 10,
   "metadata": {},
   "outputs": [],
   "source": [
    "train=cross_validate(df,5)"
   ]
  },
  {
   "cell_type": "code",
   "execution_count": 11,
   "metadata": {},
   "outputs": [],
   "source": [
    "prior_dict,vocab_classes,post_dict,tokens_classes=train_corpus(train)"
   ]
  },
  {
   "cell_type": "markdown",
   "metadata": {},
   "source": [
    "# Visualization"
   ]
  },
  {
   "cell_type": "markdown",
   "metadata": {},
   "source": [
    "## Prior probabilities"
   ]
  },
  {
   "cell_type": "code",
   "execution_count": 13,
   "metadata": {},
   "outputs": [
    {
     "data": {
      "image/png": "[encoded data removed]",
      "text/plain": [
       "<Figure size 432x288 with 1 Axes>"
      ]
     },
     "metadata": {
      "needs_background": "light"
     },
     "output_type": "display_data"
    }
   ],
   "source": [
    "import matplotlib.pyplot as plt\n",
    "plt.bar(range(len(prior_dict)), list(prior_dict.values()), align='center')\n",
    "plt.xticks(range(len(prior_dict)), list(prior_dict.keys()))\n",
    "plt.title('Visualization Of Prior Probabilities')\n",
    "plt.show()"
   ]
  },
  {
   "cell_type": "markdown",
   "metadata": {},
   "source": [
    "## Frequency of words"
   ]
  },
  {
   "cell_type": "code",
   "execution_count": 14,
   "metadata": {},
   "outputs": [],
   "source": [
    "sorted_list=sorted(tokens_classes.values(),reverse=True)\n",
    "post=dict()\n",
    "c=0\n",
    "for x in sorted_list:\n",
    "    c=c+1\n",
    "    if c<=10:\n",
    "        for key, value in tokens_classes.items() :\n",
    "            if value==x:\n",
    "                post[key]=value\n",
    "                break"
   ]
  },
  {
   "cell_type": "code",
   "execution_count": 15,
   "metadata": {},
   "outputs": [
    {
     "data": {
      "image/png": "[encoded data removed]",
      "text/plain": [
       "<Figure size 432x288 with 1 Axes>"
      ]
     },
     "metadata": {
      "needs_background": "light"
     },
     "output_type": "display_data"
    }
   ],
   "source": [
    "import matplotlib.pyplot as plt\n",
    "plt.bar(range(len(post)), list(post.values()), align='center')\n",
    "plt.xticks(range(len(post)), list(post.keys()))\n",
    "plt.title('Total lemmatized words in classes')\n",
    "plt.show()"
   ]
  },
  {
   "cell_type": "markdown",
   "metadata": {},
   "source": [
    "## Frequency of words for 0 label"
   ]
  },
  {
   "cell_type": "code",
   "execution_count": 16,
   "metadata": {},
   "outputs": [],
   "source": [
    "newdict=dict()\n",
    "for words in post_dict:\n",
    "    for labels in post_dict[words]:\n",
    "        if labels not in newdict:\n",
    "            newdict[labels]=dict()       \n",
    "        newdict[labels][words]=post_dict[words][labels]"
   ]
  },
  {
   "cell_type": "code",
   "execution_count": 17,
   "metadata": {},
   "outputs": [
    {
     "name": "stdout",
     "output_type": "stream",
     "text": [
      "7727\n"
     ]
    }
   ],
   "source": [
    "sorted_list=sorted(newdict[0].values(),reverse=True)\n",
    "post=dict()\n",
    "c=0\n",
    "print(len(newdict[0]))\n",
    "for x in sorted_list:\n",
    "    c=c+1\n",
    "    if c<=10:\n",
    "        for key, value in newdict[0].items() :\n",
    "            if value==x:\n",
    "                post[key]=value\n",
    "                break"
   ]
  },
  {
   "cell_type": "code",
   "execution_count": 18,
   "metadata": {},
   "outputs": [
    {
     "data": {
      "image/png": "[encoded data removed]",
      "text/plain": [
       "<Figure size 432x288 with 1 Axes>"
      ]
     },
     "metadata": {
      "needs_background": "light"
     },
     "output_type": "display_data"
    }
   ],
   "source": [
    "import matplotlib.pyplot as plt\n",
    "plt.bar(range(len(post)), list(post.values()), align='center')\n",
    "plt.xticks(range(len(post)), list(post.keys()))\n",
    "plt.title('Frequency of words for class 0')\n",
    "plt.show()"
   ]
  },
  {
   "cell_type": "code",
   "execution_count": null,
   "metadata": {},
   "outputs": [],
   "source": [
    "pre=predict(train,df_test,prior_dict,vocab_classes,post_dict,tokens_classes)"
   ]
  },
  {
   "cell_type": "code",
   "execution_count": null,
   "metadata": {},
   "outputs": [],
   "source": [
    "print(len(pre))"
   ]
  },
  {
   "cell_type": "code",
   "execution_count": null,
   "metadata": {},
   "outputs": [],
   "source": [
    "result=[[] for i in range(len(pre))]\n",
    "for i in range(len(pre)):\n",
    "    result[i].append(df_test.iloc[i][0])\n",
    "    result[i].append(df_test.iloc[i][1])\n",
    "    result[i].append(pre[i])"
   ]
  },
  {
   "cell_type": "code",
   "execution_count": null,
   "metadata": {},
   "outputs": [],
   "source": [
    "# result_df=pd.DataFrame(result)\n",
    "# result_df.to_csv('Ritwik_Mitra.csv')"
   ]
  },
  {
   "cell_type": "markdown",
   "metadata": {},
   "source": [
    "# Accuracy"
   ]
  },
  {
   "cell_type": "code",
   "execution_count": null,
   "metadata": {},
   "outputs": [],
   "source": [
    "# pre=predict(train,df_test,prior_dict,vocab_classes,post_dict,tokens_classes)\n",
    "\n",
    "# truelabels=df_test.iloc[:, 2].tolist()\n",
    "\n",
    "# count=0\n",
    "# for i in range(len(pre)):\n",
    "#     if pre[i]==truelabels[i]:\n",
    "#         count=count+1\n",
    "# print(count/len(pre))"
   ]
  },
  {
   "cell_type": "markdown",
   "metadata": {},
   "source": [
    "# Writing predictions to csv file"
   ]
  },
  {
   "cell_type": "code",
   "execution_count": null,
   "metadata": {},
   "outputs": [],
   "source": [
    "# with open('Result_Naive_Bayes.csv', \"w\") as outfile:\n",
    "#     for entries in pre:\n",
    "#         outfile.write(str(entries))\n",
    "#         outfile.write(\"\\n\")"
   ]
  },
  {
   "cell_type": "code",
   "execution_count": null,
   "metadata": {},
   "outputs": [],
   "source": []
  }
 ],
 "metadata": {
  "kernelspec": {
   "display_name": "Python 3",
   "language": "python",
   "name": "python3"
  },
  "language_info": {
   "codemirror_mode": {
    "name": "ipython",
    "version": 3
   },
   "file_extension": ".py",
   "mimetype": "text/x-python",
   "name": "python",
   "nbconvert_exporter": "python",
   "pygments_lexer": "ipython3",
   "version": "3.6.6"
  }
 },
 "nbformat": 4,
 "nbformat_minor": 2
}
