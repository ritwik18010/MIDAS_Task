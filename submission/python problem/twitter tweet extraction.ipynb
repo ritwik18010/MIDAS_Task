{
 "cells": [
  {
   "cell_type": "markdown",
   "metadata": {},
   "source": [
    "# insert access keys and consumer keys and extract tweets"
   ]
  },
  {
   "cell_type": "code",
   "execution_count": null,
   "metadata": {},
   "outputs": [],
   "source": [
    "import tweepy\n",
    "consumer_key = \"\" \n",
    "consumer_secret = \"\"\n",
    "access_key = \"\"\n",
    "access_secret = \"\"\n",
    "  \n",
    "# Function to extract tweets \n",
    "def get_tweets(username): \n",
    "          \n",
    "    # Authorization to consumer key and consumer secret \n",
    "    auth = tweepy.OAuthHandler(consumer_key, consumer_secret) \n",
    "\n",
    "    # Access to user's access key and access secret \n",
    "    auth.set_access_token(access_key, access_secret) \n",
    "\n",
    "    # Calling api \n",
    "    api = tweepy.API(auth) \n",
    "\n",
    "    # 200 tweets to be extracted \n",
    "    number_of_tweets=1000\n",
    "    tweets = api.user_timeline(screen_name=username) \n",
    "\n",
    "    # Empty Array \n",
    "    tmp=[]  \n",
    "\n",
    "    # create array of tweet information: username,  \n",
    "    # tweet id, date/time, text \n",
    "    tweets_for_csv = [tweet.text for tweet in tweets] # CSV file created  \n",
    "    for j in tweets_for_csv: \n",
    "\n",
    "        # Appending tweets to the empty array tmp \n",
    "        tmp.append(j)  \n",
    "\n",
    "    # Printing the tweets \n",
    "#     print(tmp) \n",
    "    return tmp"
   ]
  },
  {
   "cell_type": "code",
   "execution_count": null,
   "metadata": {},
   "outputs": [],
   "source": [
    "tweets=get_tweets('midasIIITD')"
   ]
  },
  {
   "cell_type": "markdown",
   "metadata": {},
   "source": [
    "# writing tweets to json file"
   ]
  },
  {
   "cell_type": "code",
   "execution_count": null,
   "metadata": {},
   "outputs": [],
   "source": [
    "import json\n",
    "with open('data.json', 'w') as outfile:\n",
    "    json.dump(tweets, outfile)"
   ]
  },
  {
   "cell_type": "code",
   "execution_count": null,
   "metadata": {},
   "outputs": [],
   "source": []
  }
 ],
 "metadata": {
  "kernelspec": {
   "display_name": "Python 3",
   "language": "python",
   "name": "python3"
  },
  "language_info": {
   "codemirror_mode": {
    "name": "ipython",
    "version": 3
   },
   "file_extension": ".py",
   "mimetype": "text/x-python",
   "name": "python",
   "nbconvert_exporter": "python",
   "pygments_lexer": "ipython3",
   "version": "3.6.6"
  }
 },
 "nbformat": 4,
 "nbformat_minor": 2
}
